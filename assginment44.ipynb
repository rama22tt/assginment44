{
 "cells": [
  {
   "cell_type": "markdown",
   "id": "58f8c83a-b2da-487f-9b21-f892b6542baa",
   "metadata": {},
   "source": [
    "CONTROL FLOW\n",
    "\n",
    "Assigment question \n",
    "\n",
    "Baisc if-Else statements:"
   ]
  },
  {
   "cell_type": "markdown",
   "id": "b728cc79-cfb8-4f43-99ae-16ac337af986",
   "metadata": {},
   "source": [
    "1. Write a python program to check if a given number is positive or negative."
   ]
  },
  {
   "cell_type": "code",
   "execution_count": 5,
   "id": "62d83c50-184a-4cec-a61a-66a3fa982825",
   "metadata": {},
   "outputs": [
    {
     "name": "stdin",
     "output_type": "stream",
     "text": [
      "Enter the number that you want to check wheather positive or negative: 12\n"
     ]
    },
    {
     "name": "stdout",
     "output_type": "stream",
     "text": [
      "Number is positive: 12\n"
     ]
    }
   ],
   "source": [
    "n=int(input(\"Enter the number that you want to check wheather positive or negative:\"))\n",
    "if n>=0:\n",
    "    print(\"Number is positive:\",n)\n",
    "else:\n",
    "    print(\"Number is negative:\",n)"
   ]
  },
  {
   "cell_type": "markdown",
   "id": "ad70d3b6-099d-4378-9b10-19956eaea720",
   "metadata": {},
   "source": [
    "2.Create a program that determine if a person is eligible to vote based on their age."
   ]
  },
  {
   "cell_type": "code",
   "execution_count": 7,
   "id": "56f2a8a6-5b57-47b0-81dc-83c710d80604",
   "metadata": {},
   "outputs": [
    {
     "name": "stdin",
     "output_type": "stream",
     "text": [
      "Enter the age: 20\n"
     ]
    },
    {
     "name": "stdout",
     "output_type": "stream",
     "text": [
      "yes'you are eligible for vote : 20\n"
     ]
    }
   ],
   "source": [
    "age=int(input(\"Enter the age:\"))\n",
    "if age>=18:\n",
    "    print(\"yes'you are eligible for vote :\",age)\n",
    "else:\n",
    "    print(\"Not'you are not eligible for vote\")"
   ]
  },
  {
   "cell_type": "markdown",
   "id": "ad9599f0-2c74-47ab-8de3-d7061b447b24",
   "metadata": {},
   "source": [
    "3.Develop a program to find the maximum of two numbers using if-else statements."
   ]
  },
  {
   "cell_type": "code",
   "execution_count": 9,
   "id": "cbc54b1d-e3dc-4393-977e-3dbaa6cef131",
   "metadata": {},
   "outputs": [
    {
     "name": "stdin",
     "output_type": "stream",
     "text": [
      "Enter frist number: 23\n",
      "Enter second number: 45\n"
     ]
    },
    {
     "name": "stdout",
     "output_type": "stream",
     "text": [
      "Maximum number is n2: 45\n"
     ]
    }
   ],
   "source": [
    "n1=int(input(\"Enter frist number:\"))\n",
    "n2=int(input(\"Enter second number:\"))\n",
    "if n1>n2:\n",
    "    print(\"Maximum number is n1:\",n1)\n",
    "else:\n",
    "    print(\"Maximum number is n2:\",n2)"
   ]
  },
  {
   "cell_type": "markdown",
   "id": "a8873485-35e6-4534-97be-e5dba0f09c54",
   "metadata": {},
   "source": [
    "4.Write a python script to classify a given year as a leap year or not."
   ]
  },
  {
   "cell_type": "code",
   "execution_count": 14,
   "id": "e7bad1ee-2cca-471e-92d6-67fb82d0fb72",
   "metadata": {},
   "outputs": [
    {
     "name": "stdin",
     "output_type": "stream",
     "text": [
      "Enter the year: 2012\n"
     ]
    },
    {
     "name": "stdout",
     "output_type": "stream",
     "text": [
      "year is leap year\n"
     ]
    }
   ],
   "source": [
    "year=int(input(\"Enter the year:\"))\n",
    "if (year%4==0)and(year%100!=0)or(year%400==0):\n",
    "    print(\"year is leap year\")\n",
    "else:\n",
    "    print(\"year is not leap year\")"
   ]
  },
  {
   "cell_type": "markdown",
   "id": "5c02555b-d361-43e2-984f-b43d49f54883",
   "metadata": {},
   "source": [
    "5.Create a program script to classify wheather a character is vowel or a constant."
   ]
  },
  {
   "cell_type": "code",
   "execution_count": 15,
   "id": "4a3f858c-d458-48b3-8cc5-ec955d26ad5c",
   "metadata": {},
   "outputs": [
    {
     "name": "stdin",
     "output_type": "stream",
     "text": [
      "Enter the character: t\n"
     ]
    },
    {
     "name": "stdout",
     "output_type": "stream",
     "text": [
      "The character is constant\n"
     ]
    }
   ],
   "source": [
    "char=input(\"Enter the character:\")\n",
    "vowels=['a','e','i','o','u','A','E','I','O','U']\n",
    "if char in vowels:\n",
    "    print(\" The character is vowel\")\n",
    "else:\n",
    "    print(\"The character is constant\")"
   ]
  },
  {
   "cell_type": "markdown",
   "id": "158984fa-33e1-4a81-9ea2-329011d51277",
   "metadata": {},
   "source": [
    "6.Implement a program to determine whether a given number is even or odd."
   ]
  },
  {
   "cell_type": "code",
   "execution_count": 16,
   "id": "827331ec-0f23-4475-b6b7-dc113ecf8f45",
   "metadata": {},
   "outputs": [
    {
     "name": "stdin",
     "output_type": "stream",
     "text": [
      "enter the number: 13\n"
     ]
    },
    {
     "name": "stdout",
     "output_type": "stream",
     "text": [
      "The number is odd: 13\n"
     ]
    }
   ],
   "source": [
    "num=int(input(\"enter the number:\"))\n",
    "if num%2==0:\n",
    "    print(\"The number is even:\",num)\n",
    "else:\n",
    "    print(\"The number is odd:\",num)"
   ]
  },
  {
   "cell_type": "markdown",
   "id": "e0f66f2f-c12b-4586-940e-8c669febdc57",
   "metadata": {},
   "source": [
    "7.write a python function to calculate the absolute value of a number without using abs() function."
   ]
  },
  {
   "cell_type": "code",
   "execution_count": 19,
   "id": "4acd4d60-96d6-4144-8216-d836cbbccb04",
   "metadata": {},
   "outputs": [
    {
     "name": "stdin",
     "output_type": "stream",
     "text": [
      "enter the number: -12\n"
     ]
    },
    {
     "name": "stdout",
     "output_type": "stream",
     "text": [
      "The -12 after absolute value: 12\n"
     ]
    }
   ],
   "source": [
    "num=int(input(\"enter the number:\"))\n",
    "if num>0:\n",
    "    print(\"The number is in absolute form:\",num)\n",
    "else:\n",
    "    print(\"The\",num,\"after absolute value:\",-num)"
   ]
  },
  {
   "cell_type": "markdown",
   "id": "81f94604-803a-431c-9fa1-fd11749062f4",
   "metadata": {},
   "source": [
    "8.Develop a program that determine the largest of three given numbers using if_else statements."
   ]
  },
  {
   "cell_type": "code",
   "execution_count": 21,
   "id": "9acf016c-871d-433c-a610-012fc791cb41",
   "metadata": {},
   "outputs": [
    {
     "name": "stdin",
     "output_type": "stream",
     "text": [
      "enter the number n1: 23\n",
      "enter the number n2: 45\n",
      "enter the number n3: 12\n"
     ]
    },
    {
     "name": "stdout",
     "output_type": "stream",
     "text": [
      "The number n2 is largest: 45\n"
     ]
    }
   ],
   "source": [
    "n1=int(input(\"enter the number n1:\"))\n",
    "n2=int(input(\"enter the number n2:\"))\n",
    "n3=int(input(\"enter the number n3:\"))\n",
    "if (n1>n2)and(n1>n3):\n",
    "    print(\"The number n1 is largest:\",n1)\n",
    "if (n2>n1)and(n2>n3):\n",
    "    print(\"The number n2 is largest:\",n2)\n",
    "else:\n",
    "    print(\"The number n3 is largest:\",n3)\n",
    "   "
   ]
  },
  {
   "cell_type": "markdown",
   "id": "921efe12-4ac3-49b5-9d90-431a49d5e210",
   "metadata": {},
   "source": [
    "9.Create a program that checks if a given string is palindrome."
   ]
  },
  {
   "cell_type": "code",
   "execution_count": 23,
   "id": "7b2500fd-96c6-447a-82b6-ab78ff17285f",
   "metadata": {},
   "outputs": [
    {
     "name": "stdout",
     "output_type": "stream",
     "text": [
      "The string is plaidrome\n"
     ]
    }
   ],
   "source": [
    "s=\"ArorA\"\n",
    "if s==s[::-1]:\n",
    "    print(\"The string is plaidrome\")\n",
    "else:\n",
    "    print(\"String is not plaidrome\")"
   ]
  },
  {
   "cell_type": "markdown",
   "id": "b9d6f575-efbe-442f-b789-1f864feb40ab",
   "metadata": {},
   "source": [
    "10.Write a python program to calculate the grade based on student's score."
   ]
  },
  {
   "cell_type": "code",
   "execution_count": 24,
   "id": "8594ed0b-fd36-4604-9209-1d489b2066f6",
   "metadata": {},
   "outputs": [
    {
     "name": "stdin",
     "output_type": "stream",
     "text": [
      "Enter the number you score: 240\n"
     ]
    },
    {
     "name": "stdout",
     "output_type": "stream",
     "text": [
      "you got A grade\n"
     ]
    }
   ],
   "source": [
    "marks=int(input(\"Enter the number you score:\"))\n",
    "if marks>200:\n",
    "    print(\"you got A grade\")\n",
    "else:\n",
    "    print(\"your got B grade\")"
   ]
  },
  {
   "cell_type": "markdown",
   "id": "13e48fbd-d687-4822-91a5-0987b2536cee",
   "metadata": {},
   "source": [
    "NESTED IF-ELSE STATEMENTS:"
   ]
  },
  {
   "cell_type": "markdown",
   "id": "76609a8f-5b5a-4211-b008-75e5996e1960",
   "metadata": {},
   "source": [
    "11. write a program to find the lagest among three numbers using nested if-else statements."
   ]
  },
  {
   "cell_type": "code",
   "execution_count": 26,
   "id": "9852b164-69c7-430b-88dd-2b347b5cb95c",
   "metadata": {},
   "outputs": [
    {
     "name": "stdin",
     "output_type": "stream",
     "text": [
      "enter the number n1: 23\n",
      "enter the number n2: 4\n",
      "enter the number n3: 5\n"
     ]
    },
    {
     "name": "stdout",
     "output_type": "stream",
     "text": [
      "largest number among three: 23\n"
     ]
    }
   ],
   "source": [
    "n1=int(input(\"enter the number n1:\"))\n",
    "n2=int(input(\"enter the number n2:\"))\n",
    "n3=int(input(\"enter the number n3:\"))\n",
    "if n1>n2:\n",
    "    if n1>n3:\n",
    "        # here g is for largest number\n",
    "        g=n1\n",
    "    else:\n",
    "        g=n3\n",
    "else:\n",
    "    if n2>n1:\n",
    "        g=n2\n",
    "    else:\n",
    "        g=n3\n",
    "print(\"largest number among three:\",g)"
   ]
  },
  {
   "cell_type": "markdown",
   "id": "064477ad-d2a7-449b-94f6-dbc2b5cbcff5",
   "metadata": {},
   "source": [
    "12.Implements a program to determine if a triangle is equilateral,isosceles,or scalene."
   ]
  },
  {
   "cell_type": "code",
   "execution_count": 30,
   "id": "294bb04e-0957-48a1-8f5a-e353b9e9ba4e",
   "metadata": {},
   "outputs": [
    {
     "name": "stdin",
     "output_type": "stream",
     "text": [
      "enter the side a: 23\n",
      "enter the side b: 24\n",
      "enter the side c: 25\n"
     ]
    },
    {
     "name": "stdout",
     "output_type": "stream",
     "text": [
      "triangle is scalene\n"
     ]
    }
   ],
   "source": [
    "a=int(input(\"enter the side a:\"))\n",
    "b=int(input(\"enter the side b:\"))\n",
    "c=int(input(\"enter the side c:\"))\n",
    "if a==b==c:\n",
    "    print(\" triangle is equilateral \")\n",
    "    if(a==b)or(b==c)or(a==c):\n",
    "        print(\"Triangle is  isosceles\")\n",
    "else:\n",
    "    print(\"triangle is scalene\")"
   ]
  },
  {
   "cell_type": "markdown",
   "id": "99c42a9c-d5d6-4b94-a16a-ccf84d98f77b",
   "metadata": {},
   "source": [
    "13.Develop a program that checks if a year is leap year and also century year."
   ]
  },
  {
   "cell_type": "code",
   "execution_count": 31,
   "id": "fc0ec390-1dba-4f73-8141-c6a9ec8e872e",
   "metadata": {},
   "outputs": [
    {
     "name": "stdin",
     "output_type": "stream",
     "text": [
      "Enter the year: 2003\n"
     ]
    },
    {
     "name": "stdout",
     "output_type": "stream",
     "text": [
      "year is not leap year\n"
     ]
    }
   ],
   "source": [
    "year=int(input(\"Enter the year:\"))\n",
    "if (year%4==0):\n",
    "    if (year%100!=0):\n",
    "        if(year%400==0):\n",
    "              print(\"year is leap year\")\n",
    "        else:\n",
    "            print(\"year is not leap year\")\n",
    "else:\n",
    "    print(\"year is not leap year\")"
   ]
  },
  {
   "cell_type": "markdown",
   "id": "0f9c2934-52cb-449b-b911-96971d54c0da",
   "metadata": {},
   "source": [
    "14 write a python script to determine if a number is positive,negativeor zero."
   ]
  },
  {
   "cell_type": "code",
   "execution_count": 32,
   "id": "1cf9271b-a066-4826-8c5f-e2dab6981396",
   "metadata": {},
   "outputs": [
    {
     "name": "stdin",
     "output_type": "stream",
     "text": [
      "enter the number n1: 12\n"
     ]
    },
    {
     "name": "stdout",
     "output_type": "stream",
     "text": [
      "Postive number\n"
     ]
    }
   ],
   "source": [
    "n=int(input(\"enter the number n1:\"))\n",
    "if n>=0:\n",
    "    if n==0:\n",
    "        print(\"Zero\")\n",
    "    else:\n",
    "        print(\"Postive number\")\n",
    "else:\n",
    "    print(\"Negative numbers\")"
   ]
  },
  {
   "cell_type": "markdown",
   "id": "ac6ea0a2-2ebb-402c-92ab-760b344fa97a",
   "metadata": {},
   "source": [
    "15.create a program to check if a person is a teenager(between13 and 19 old). "
   ]
  },
  {
   "cell_type": "code",
   "execution_count": 36,
   "id": "42a1d02f-ec55-4e47-9cc6-ee87afc9f9a2",
   "metadata": {},
   "outputs": [
    {
     "name": "stdin",
     "output_type": "stream",
     "text": [
      "enter the age : 15\n"
     ]
    },
    {
     "name": "stdout",
     "output_type": "stream",
     "text": [
      " the person is teenager\n"
     ]
    }
   ],
   "source": [
    "age=int(input(\"enter the age :\"))\n",
    "if age>=13:\n",
    "    if age<=19:\n",
    "        print(\" the person is teenager\")\n",
    "    else:\n",
    "        print(\"your age less then teenager\")\n",
    "else:\n",
    "    print(\"you are not teenager\")\n",
    "        "
   ]
  },
  {
   "cell_type": "markdown",
   "id": "5e82b3e0-36b3-4ac2-a1c3-264e2bf246c3",
   "metadata": {},
   "source": [
    "16.Develop a program that determine the type of angle based on its measure(acute,obtuse,or right)."
   ]
  },
  {
   "cell_type": "code",
   "execution_count": 2,
   "id": "4fc62d64-557d-4375-ba3d-ca7d6dedabd8",
   "metadata": {},
   "outputs": [
    {
     "name": "stdin",
     "output_type": "stream",
     "text": [
      "Enter the angle1: 45\n",
      "Enter the angle2: 20\n",
      "Enter the angle3: 25\n"
     ]
    },
    {
     "name": "stdout",
     "output_type": "stream",
     "text": [
      "It is an right angle\n"
     ]
    }
   ],
   "source": [
    "angle1=int(input(\"Enter the angle1:\"))\n",
    "angle2=int(input(\"Enter the angle2:\"))\n",
    "angle3=int(input(\"Enter the angle3:\"))\n",
    "if angle1==angle2+angle3 or angle2==angle1+angle3 or angle3==angle1+angle2:   \n",
    "    if angle1>angle3+angle2 or angle2>angle1+angle3 or angle3>angle1+angle2:\n",
    "        print(\"It is an obtuse\")\n",
    "    print(\"It is an right angle\")\n",
    "else:\n",
    "    print(\"It is acute angle\")\n",
    "    "
   ]
  },
  {
   "cell_type": "markdown",
   "id": "22dda508-ec52-45d5-814e-10a1b1f909f6",
   "metadata": {},
   "source": [
    " 17.Write a python program to calculate the roots of quardratic equation."
   ]
  },
  {
   "cell_type": "code",
   "execution_count": 3,
   "id": "fc3e4adf-29a1-4930-aae5-358d493330f5",
   "metadata": {},
   "outputs": [
    {
     "name": "stdin",
     "output_type": "stream",
     "text": [
      "Enter a: 23\n",
      "Enter b: 22\n",
      "Enter c: 12\n"
     ]
    },
    {
     "name": "stdout",
     "output_type": "stream",
     "text": [
      "Complex Roots\n",
      "-0.4782608695652174  + i 24.899799195977465\n",
      "-0.4782608695652174  - i 24.899799195977465\n"
     ]
    }
   ],
   "source": [
    "import math  \n",
    "def findRoots(a, b, c):  \n",
    "    dis_form = b * b - 4 * a * c  \n",
    "    sqrt_val = math.sqrt(abs(dis_form))   \n",
    "    if dis_form > 0:  \n",
    "        print(\" real and different roots \")  \n",
    "        print((-b + sqrt_val) / (2 * a))  \n",
    "        print((-b - sqrt_val) / (2 * a))  \n",
    "  \n",
    "    elif dis_form == 0:  \n",
    "        print(\" real and same roots\")  \n",
    "        print(-b / (2 * a))  \n",
    "    else:  \n",
    "        print(\"Complex Roots\")  \n",
    "        print(- b / (2 * a), \" + i\", sqrt_val)  \n",
    "        print(- b / (2 * a), \" - i\", sqrt_val)  \n",
    "a = int(input('Enter a:'))  \n",
    "b = int(input('Enter b:'))  \n",
    "c = int(input('Enter c:'))  \n",
    "# If a is 0, then incorrect equation  \n",
    "if a == 0:  \n",
    "    print(\"Input correct quadratic equation\")  \n",
    "else:  \n",
    "    findRoots(a, b, c)  "
   ]
  },
  {
   "cell_type": "markdown",
   "id": "b45b051e-8f18-4107-956f-dd27c9584cd6",
   "metadata": {},
   "source": [
    "18.Implement a program to determine the day of the week based on a user-provided number(1 for monday ,2for tuesday,etc)"
   ]
  },
  {
   "cell_type": "code",
   "execution_count": null,
   "id": "5cb93e39-67a1-48bf-a941-a1717a3d0dfd",
   "metadata": {},
   "outputs": [],
   "source": [
    "day = int(input(\"Enter a number from 1 to 7: \"))\n",
    "\n",
    "if day == 1:\n",
    "    print(day, \"is Sunday\")\n",
    "elif day == 2:\n",
    "    print(day, \"is Monday\")\n",
    "elif day == 3:\n",
    "    print(day, \"is Tuesday\")\n",
    "elif day == 4:\n",
    "    print(day, \"is Wednesday\")\n",
    "elif day == 5:\n",
    "    print(day, \"is Thursday\")\n",
    "elif day == 6:\n",
    "    print(day, \"is Friday\")\n",
    "elif day == 7:\n",
    "    print(day, \"is Saturday\")\n",
    "else:\n",
    "    print(\"Wrong input! Please enter a number from 1 to 7.\")"
   ]
  },
  {
   "cell_type": "markdown",
   "id": "32a4a043-df53-4b00-89e6-620dc8167ee8",
   "metadata": {},
   "source": [
    "19.create a program that determine if a year is leap year and also if it is evenly divisible by 400."
   ]
  },
  {
   "cell_type": "code",
   "execution_count": null,
   "id": "8efa3b7d-4216-4a8d-b49f-f7d3690c826c",
   "metadata": {},
   "outputs": [],
   "source": [
    "year = int(input(\"Enter a year(yyyy): \"))\n",
    "# Check if the year is a leap year and output the result\n",
    "if year % 4 == 0:\n",
    "    if year % 100 != 0:\n",
    "        print(year, \"is a leap year.\")\n",
    "    elif year % 400 == 0:\n",
    "        print(year, \"is a leap year.\")\n",
    "    else:\n",
    "        print(year, \"is not a leap year.\")\n",
    "else:\n",
    "    print(year, \"is not a leap year.\")\n"
   ]
  },
  {
   "cell_type": "markdown",
   "id": "8edf2038-e461-43e3-b53f-1c30816f60a1",
   "metadata": {},
   "source": [
    "20.Develop a program that checks if a given number is prime or not using nested if-else statements."
   ]
  },
  {
   "cell_type": "code",
   "execution_count": 9,
   "id": "d54453fe-4e92-4206-82f3-03ac4c2f99ce",
   "metadata": {},
   "outputs": [
    {
     "name": "stdin",
     "output_type": "stream",
     "text": [
      "pick a number 12\n"
     ]
    },
    {
     "name": "stdout",
     "output_type": "stream",
     "text": [
      "Your number not a is prime\n"
     ]
    }
   ],
   "source": [
    "user_input = int(input(\"pick a number\"))\n",
    "result = all(user_input % i for i in range(2, user_input))\n",
    "\n",
    "if result:\n",
    "     print(\"Your number is prime\")\n",
    "else:\n",
    "     print(\"Your number not a is prime\")"
   ]
  },
  {
   "cell_type": "code",
   "execution_count": null,
   "id": "ce085d26-85d8-4371-96bc-be3f6f2d68d3",
   "metadata": {},
   "outputs": [],
   "source": [
    "21.write python program to assgin grades....."
   ]
  },
  {
   "cell_type": "code",
   "execution_count": 10,
   "id": "a8065041-b5c0-4771-bf24-64e917cf72c8",
   "metadata": {},
   "outputs": [
    {
     "name": "stdout",
     "output_type": "stream",
     "text": [
      "Enter Marks Obtained in 5 Subjects: \n",
      "Your Grade is B1\n"
     ]
    }
   ],
   "source": [
    "print(\"Enter Marks Obtained in 5 Subjects: \")\n",
    "# here user conatin different marks in diffrent subject\n",
    "total1 = 44\n",
    "total2 = 67\n",
    "total3 = 76\n",
    "total4 = 99\n",
    "total5 = 58 \n",
    "tot = total1 + total2 + total3 + total4 + total4\n",
    "avg = tot / 5\n",
    "# easily measure the grades based on range\n",
    "if avg >= 91 and avg <= 100:\n",
    "    print(\"Your Grade is A1\")\n",
    "elif avg >= 81 and avg < 91:\n",
    "    print(\"Your Grade is A2\")\n",
    "elif avg >= 71 and avg < 81:\n",
    "    print(\"Your Grade is B1\")\n",
    "elif avg >= 61 and avg < 71:\n",
    "    print(\"Your Grade is B2\")\n",
    "elif avg >= 51 and avg < 61:\n",
    "    print(\"Your Grade is C1\")\n",
    "elif avg >= 41 and avg < 51:\n",
    "    print(\"Your Grade is C2\")\n",
    "elif avg >= 33 and avg < 41:\n",
    "    print(\"Your Grade is D\")\n",
    "elif avg >= 21 and avg < 33:\n",
    "    print(\"Your Grade is E1\")\n",
    "elif avg >= 0 and avg < 21:\n",
    "    print(\"Your Grade is E2\")\n",
    "else:\n",
    "    print(\"Invalid Input!\")"
   ]
  },
  {
   "cell_type": "markdown",
   "id": "dcff91be-fef1-4e92-8a4b-cfe41a3f2691",
   "metadata": {},
   "source": [
    "22.Implement the different the type of triangle...."
   ]
  },
  {
   "cell_type": "code",
   "execution_count": 11,
   "id": "d4c3c64b-024c-4ef8-b4eb-36faa6a54556",
   "metadata": {},
   "outputs": [
    {
     "name": "stdin",
     "output_type": "stream",
     "text": [
      "Enter the angle1: 45\n",
      "Enter the angle2: 20\n",
      "Enter the angle3: 20\n"
     ]
    },
    {
     "name": "stdout",
     "output_type": "stream",
     "text": [
      "It is an obtuse\n"
     ]
    }
   ],
   "source": [
    "angle1=int(input(\"Enter the angle1:\"))\n",
    "angle2=int(input(\"Enter the angle2:\"))\n",
    "angle3=int(input(\"Enter the angle3:\"))\n",
    "if angle1==angle2+angle3 or angle2==angle1+angle3 or angle3==angle1+angle2: \n",
    "    print(\"It is an right angle\")\n",
    "elif angle1>angle3+angle2 or angle2>angle1+angle3 or angle3>angle1+angle2:\n",
    "    print(\"It is an obtuse\")\n",
    "else:\n",
    "    print(\"It is acute angle\")\n",
    "    "
   ]
  },
  {
   "cell_type": "markdown",
   "id": "322289b5-58b8-40b9-91be-8e10d8de8996",
   "metadata": {},
   "source": [
    "23.Develop a program categorize a given person BMI into....."
   ]
  },
  {
   "cell_type": "code",
   "execution_count": 3,
   "id": "3f55e42e-0949-478d-85fc-c8f186782a38",
   "metadata": {},
   "outputs": [
    {
     "name": "stdin",
     "output_type": "stream",
     "text": [
      "Enter the weight 45\n",
      "Enter the height 4\n"
     ]
    },
    {
     "name": "stdout",
     "output_type": "stream",
     "text": [
      "Obeise\n"
     ]
    }
   ],
   "source": [
    "weight=int(input(\"Enter the weight\"))\n",
    "height=float(input(\"Enter the height\"))\n",
    "BMI=weight/height*height\n",
    "if BMI<18.5:\n",
    "    print(\"Underweight\")\n",
    "elif BMI>=18.5 and BMI<25:\n",
    "    print(\"Normal\") \n",
    "elif BMI>=25 and BMI<30: \n",
    "    print(\"Overweight\")\n",
    "else: print(\"Obeise\") "
   ]
  },
  {
   "cell_type": "markdown",
   "id": "4145006f-dc16-4d97-8ef0-49bbe21ec3d6",
   "metadata": {},
   "source": [
    "24.program to determine that wheather a given number is positive ,negative....."
   ]
  },
  {
   "cell_type": "code",
   "execution_count": 13,
   "id": "95d65026-c43c-4e36-ae6f-daab9da60968",
   "metadata": {},
   "outputs": [
    {
     "name": "stdin",
     "output_type": "stream",
     "text": [
      "Enter the number: 4\n"
     ]
    },
    {
     "name": "stdout",
     "output_type": "stream",
     "text": [
      "The number is positive: 4\n"
     ]
    }
   ],
   "source": [
    "num=int(input(\"Enter the number:\"))\n",
    "if num>0:\n",
    "    print(\"The number is positive:\",num)\n",
    "elif num<0:\n",
    "    print(\"The  number is negative:\",num)\n",
    "else:\n",
    "    print(\"the number is zero\")"
   ]
  },
  {
   "cell_type": "markdown",
   "id": "accd34c3-ace4-4209-8d6d-5cb431b79dbe",
   "metadata": {},
   "source": [
    "25. write program script to determine the type of character....."
   ]
  },
  {
   "cell_type": "code",
   "execution_count": 15,
   "id": "7181ca02-ec45-4792-9aa1-f55997975fa4",
   "metadata": {},
   "outputs": [
    {
     "name": "stdin",
     "output_type": "stream",
     "text": [
      "Enter the character f\n"
     ]
    },
    {
     "name": "stdout",
     "output_type": "stream",
     "text": [
      "The character is in lowercase: f\n"
     ]
    }
   ],
   "source": [
    "char=input(\"Enter the character\")\n",
    "if char.islower():\n",
    "    print(\"The character is in lowercase:\",char)\n",
    "elif char.isupper():\n",
    "    print(\"The character is in uppercase:\",char)\n",
    "else:\n",
    "    print(\"The character is special\")"
   ]
  },
  {
   "cell_type": "markdown",
   "id": "5a14a7c0-5d3d-4062-9400-13b9739e43eb",
   "metadata": {},
   "source": [
    "26.Implement program to calculate the discounted price...."
   ]
  },
  {
   "cell_type": "code",
   "execution_count": 16,
   "id": "e840cea4-65d7-4494-9e70-817d530065e2",
   "metadata": {},
   "outputs": [
    {
     "name": "stdin",
     "output_type": "stream",
     "text": [
      "Enter Sale Amount:  3000\n"
     ]
    },
    {
     "name": "stdout",
     "output_type": "stream",
     "text": [
      "Discount :  150.0\n",
      "Net Pay  :  2850.0\n"
     ]
    }
   ],
   "source": [
    "# input sale amount\n",
    "amt = int(input(\"Enter Sale Amount: \"))\n",
    "\n",
    "# checking conditions and calculating discount\n",
    "if(amt>0):\n",
    "    if amt<=5000:\n",
    "        disc = amt*0.05\n",
    "    elif amt<=15000:\n",
    "        disc=amt*0.12\n",
    "    elif amt<=25000:\n",
    "        disc=0.2 * amt\n",
    "    else:\n",
    "         disc=0.3 * amt\n",
    "\n",
    "    print(\"Discount : \",disc)\n",
    "    print(\"Net Pay  : \",amt-disc)\n",
    "else:\n",
    "    print(\"Invalid Amount\")"
   ]
  },
  {
   "cell_type": "markdown",
   "id": "343af32e-2fdd-4c0f-99d3-9e1361d0901d",
   "metadata": {},
   "source": [
    "27.Develop a program to calculate the electricity bill....."
   ]
  },
  {
   "cell_type": "code",
   "execution_count": 17,
   "id": "ff191cf9-230d-4eb8-baf0-46cfe4846e74",
   "metadata": {},
   "outputs": [
    {
     "name": "stdin",
     "output_type": "stream",
     "text": [
      "please enter the number of units you consumed in a month 301\n"
     ]
    },
    {
     "name": "stdout",
     "output_type": "stream",
     "text": [
      "\n",
      "Electicity bill=905.00\n"
     ]
    }
   ],
   "source": [
    "#program for calculating electricity bill \n",
    "units=int(input(\"please enter the number of units you consumed in a month\"))\n",
    "if(units<=100):\n",
    "    payAmount=units*1.5\n",
    "    fixedcharge=25.00\n",
    "elif(units<=200):\n",
    "    payAmount=(100*1.5)+(units-100)*2.5\n",
    "    fixedcharge=50.00\n",
    "elif(units<=300):\n",
    "    payAmount=(100*1.5)+(200-100)*2.5+(units-200)*4\n",
    "    fixedcharge=75.00\n",
    "elif(units<=350):\n",
    "    payAmount=(100*1.5)+(200-100)*2.5+(300-200)*4+(units-300)*5\n",
    "    fixedcharge=100.00\n",
    "else:\n",
    "    payAmount=0\n",
    "    fixedcharge=1500.00\n",
    "Total=payAmount+fixedcharge;\n",
    "print(\"\\nElecticity bill=%.2f\" %Total)"
   ]
  },
  {
   "cell_type": "markdown",
   "id": "defe1440-c906-47e9-bbcc-0f61e2c682c5",
   "metadata": {},
   "source": [
    "28.create program to determine the......"
   ]
  },
  {
   "cell_type": "code",
   "execution_count": 1,
   "id": "c39ae7e9-bd72-424d-9f04-a58529ef106e",
   "metadata": {},
   "outputs": [
    {
     "name": "stdin",
     "output_type": "stream",
     "text": [
      "Enter the angle1: 23\n",
      "Enter the angle2: 34\n",
      "Enter the angle3: 56\n"
     ]
    },
    {
     "name": "stdout",
     "output_type": "stream",
     "text": [
      "It is acute angle\n"
     ]
    }
   ],
   "source": [
    "angle1=int(input(\"Enter the angle1:\"))\n",
    "angle2=int(input(\"Enter the angle2:\"))\n",
    "angle3=int(input(\"Enter the angle3:\"))\n",
    "if angle1==angle2+angle3 or angle2==angle1+angle3 or angle3==angle1+angle2: \n",
    "    print(\"It is an right angle\")\n",
    "elif angle1>angle3+angle2 or angle2>angle1+angle3 or angle3>angle1+angle2:\n",
    "    print(\"It is an obtuse\")\n",
    "else:\n",
    "    print(\"It is acute angle\")\n",
    "    "
   ]
  },
  {
   "cell_type": "markdown",
   "id": "491f85e7-f9ce-4343-a34f-379433487be3",
   "metadata": {},
   "source": [
    "29.write a python script to dteremine the sesson based on...."
   ]
  },
  {
   "cell_type": "code",
   "execution_count": 20,
   "id": "184b2e82-3ae9-45ad-bded-f5c42ee0b482",
   "metadata": {},
   "outputs": [
    {
     "name": "stdin",
     "output_type": "stream",
     "text": [
      "Input the month (e.g. January, February etc.):  July\n"
     ]
    },
    {
     "name": "stdout",
     "output_type": "stream",
     "text": [
      "Season is summer\n"
     ]
    }
   ],
   "source": [
    "month = input(\"Input the month (e.g. January, February etc.): \")\n",
    "if month in ('January', 'February', 'March'):\n",
    "\tseason = 'winter'\n",
    "elif month in ('April', 'May', 'June'):\n",
    "\tseason = 'spring'\n",
    "elif month in ('July', 'August', 'September'):\n",
    "\tseason = 'summer'\n",
    "else:\n",
    "\tseason = 'autumn'\n",
    "print(\"Season is\",season)"
   ]
  },
  {
   "cell_type": "markdown",
   "id": "7a605f7d-8bd6-4f59-be6e-f2f339d6d1fd",
   "metadata": {},
   "source": [
    "30.IMplement a program to determine the type of year.."
   ]
  },
  {
   "cell_type": "code",
   "execution_count": null,
   "id": "ca6f98fb-5ef8-4476-ab51-ada2f1b2210d",
   "metadata": {},
   "outputs": [
    {
     "name": "stdin",
     "output_type": "stream",
     "text": [
      "Enter a year(yyyy):  2023\n",
      "enter the month that u want to enter but it must we integer: 10\n"
     ]
    },
    {
     "name": "stdout",
     "output_type": "stream",
     "text": [
      "Number of days is  31\n"
     ]
    }
   ],
   "source": [
    "year = int(input(\"Enter a year(yyyy): \"))\n",
    "arr = [31, 28, 31, 30, 31, 30, 31, 31, 30, 31, 30, 31 ]\n",
    "month =int(input(\"enter the month that u want to enter but it must we integer:\"))\n",
    "# Check if the year is a leap year and output the result\n",
    "if year % 4 == 0:\n",
    "    if year % 100 != 0:\n",
    "        print(year, \"is a leap year and Number of days of month\", arr[month-1]+1)\n",
    "    elif year % 400 == 0:\n",
    "        print(year, \"is a leap year and Number of days of month\", arr[month-1]+1)\n",
    "    else:\n",
    "        print(year, \"is not a leap year.\")\n",
    "else:\n",
    "     print(\"Number of days is \", arr[month-1]);\n",
    "\n",
    "    \n"
   ]
  },
  {
   "cell_type": "markdown",
   "id": "55d3b88b-560d-466d-b12e-54b68ceeaee0",
   "metadata": {},
   "source": [
    "BASIC LEVEL....."
   ]
  },
  {
   "cell_type": "markdown",
   "id": "b2ba4748-3d5e-499a-a53c-440c08188ff8",
   "metadata": {},
   "source": [
    "1.write a python program that checks....."
   ]
  },
  {
   "cell_type": "code",
   "execution_count": null,
   "id": "f54737be-be1c-4883-a895-3d7e10e0aa4e",
   "metadata": {},
   "outputs": [],
   "source": [
    "num=int(input(\"Enter the number:\"))\n",
    "if num>0:\n",
    "    print(\"The number is positive:\",num)\n",
    "elif num<0:\n",
    "    print(\"The  number is negative:\",num)\n",
    "else:\n",
    "    print(\"the number is zero\")"
   ]
  },
  {
   "cell_type": "markdown",
   "id": "879162af-9c16-4d4c-b62e-98a938a88181",
   "metadata": {},
   "source": [
    "2.create a prgram to dtermine if a person is eliglible to vote...."
   ]
  },
  {
   "cell_type": "code",
   "execution_count": 27,
   "id": "d307ac0e-f006-4974-b00c-b8fb1cc8dab0",
   "metadata": {},
   "outputs": [
    {
     "name": "stdin",
     "output_type": "stream",
     "text": [
      "Enter the age: 18\n"
     ]
    },
    {
     "name": "stdout",
     "output_type": "stream",
     "text": [
      "yes'you are eligible for vote : 18\n"
     ]
    }
   ],
   "source": [
    "age=int(input(\"Enter the age:\"))\n",
    "if age>=18:\n",
    "    print(\"yes'you are eligible for vote :\",age)\n",
    "else:\n",
    "    print(\"Not'you are not eligible for vote\")"
   ]
  },
  {
   "cell_type": "markdown",
   "id": "f1ebdeae-8692-4cd5-a5f0-c18f790adeda",
   "metadata": {},
   "source": [
    "3. write a program to find the maximum of two given number....."
   ]
  },
  {
   "cell_type": "code",
   "execution_count": 28,
   "id": "04d3cd01-8f24-4efe-93fa-5d82fd4e8537",
   "metadata": {},
   "outputs": [
    {
     "name": "stdin",
     "output_type": "stream",
     "text": [
      "Enter frist number: 34\n",
      "Enter second number: 45\n"
     ]
    },
    {
     "name": "stdout",
     "output_type": "stream",
     "text": [
      "Maximum number is n2: 45\n"
     ]
    }
   ],
   "source": [
    "n1=int(input(\"Enter frist number:\"))\n",
    "n2=int(input(\"Enter second number:\"))\n",
    "if n1>n2:\n",
    "    print(\"Maximum number is n1:\",n1)\n",
    "else:\n",
    "    print(\"Maximum number is n2:\",n2)"
   ]
  },
  {
   "cell_type": "markdown",
   "id": "a8f5331a-baec-4e05-b771-5c9bcfeecb3b",
   "metadata": {},
   "source": [
    "4.Develop the a program that calculate the grade....."
   ]
  },
  {
   "cell_type": "code",
   "execution_count": 29,
   "id": "f83267b9-cb3a-44e4-a985-2ab4eb247cb3",
   "metadata": {},
   "outputs": [
    {
     "name": "stdout",
     "output_type": "stream",
     "text": [
      "Enter Marks Obtained in 5 Subjects: \n",
      "Your Grade is B1\n"
     ]
    }
   ],
   "source": [
    "print(\"Enter Marks Obtained in 5 Subjects: \")\n",
    "# here user conatin different marks in diffrent subject\n",
    "total1 = 44\n",
    "total2 = 67\n",
    "total3 = 76\n",
    "total4 = 99\n",
    "total5 = 58 \n",
    "tot = total1 + total2 + total3 + total4 + total4\n",
    "avg = tot / 5\n",
    "# easily measure the grades based on range\n",
    "if avg >= 91 and avg <= 100:\n",
    "    print(\"Your Grade is A1\")\n",
    "elif avg >= 81 and avg < 91:\n",
    "    print(\"Your Grade is A2\")\n",
    "elif avg >= 71 and avg < 81:\n",
    "    print(\"Your Grade is B1\")\n",
    "elif avg >= 61 and avg < 71:\n",
    "    print(\"Your Grade is B2\")\n",
    "elif avg >= 51 and avg < 61:\n",
    "    print(\"Your Grade is C1\")\n",
    "elif avg >= 41 and avg < 51:\n",
    "    print(\"Your Grade is C2\")\n",
    "elif avg >= 33 and avg < 41:\n",
    "    print(\"Your Grade is D\")\n",
    "elif avg >= 21 and avg < 33:\n",
    "    print(\"Your Grade is E1\")\n",
    "elif avg >= 0 and avg < 21:\n",
    "    print(\"Your Grade is E2\")\n",
    "else:\n",
    "    print(\"Invalid Input!\")"
   ]
  },
  {
   "cell_type": "markdown",
   "id": "3444ce0c-eeba-44e4-ae29-1c4d0b529e78",
   "metadata": {},
   "source": [
    "5.create a prgram that checks if year is leap or not..."
   ]
  },
  {
   "cell_type": "code",
   "execution_count": 30,
   "id": "b8ed7acc-b711-4d40-b1cb-7dc448bc2f9a",
   "metadata": {},
   "outputs": [
    {
     "name": "stdin",
     "output_type": "stream",
     "text": [
      "Enter a year(yyyy):  2003\n"
     ]
    },
    {
     "name": "stdout",
     "output_type": "stream",
     "text": [
      "2003 is not a leap year.\n"
     ]
    }
   ],
   "source": [
    "year = int(input(\"Enter a year(yyyy): \"))\n",
    "# Check if the year is a leap year and output the result\n",
    "if year % 4 == 0:\n",
    "    if year % 100 != 0:\n",
    "        print(year, \"is a leap year.\")\n",
    "    elif year % 400 == 0:\n",
    "        print(year, \"is a leap year.\")\n",
    "    else:\n",
    "        print(year, \"is not a leap year.\")\n",
    "else:\n",
    "    print(year, \"is not a leap year.\")\n"
   ]
  },
  {
   "cell_type": "markdown",
   "id": "de83155b-5732-429c-873a-a8bd0810bf84",
   "metadata": {},
   "source": [
    "6.Write a program to classify a triangle based on its sides..."
   ]
  },
  {
   "cell_type": "code",
   "execution_count": 31,
   "id": "bf6dfee4-1fb8-4e00-8ac0-0ee1fb0dc294",
   "metadata": {},
   "outputs": [
    {
     "name": "stdin",
     "output_type": "stream",
     "text": [
      "enter the side a: 40\n",
      "enter the side b: 20\n",
      "enter the side c: 20\n"
     ]
    },
    {
     "name": "stdout",
     "output_type": "stream",
     "text": [
      "triangle is scalene\n"
     ]
    }
   ],
   "source": [
    "a=int(input(\"enter the side a:\"))\n",
    "b=int(input(\"enter the side b:\"))\n",
    "c=int(input(\"enter the side c:\"))\n",
    "if a==b==c:\n",
    "    print(\" triangle is equilateral \")\n",
    "    if(a==b)or(b==c)or(a==c):\n",
    "        print(\"Triangle is  isosceles\")\n",
    "else:\n",
    "    print(\"triangle is scalene\")"
   ]
  },
  {
   "cell_type": "markdown",
   "id": "bed8cbe3-136d-4df4-8f57-3a61ff1d5a5f",
   "metadata": {},
   "source": [
    "7.bulid a program that determine the largest among threee...."
   ]
  },
  {
   "cell_type": "code",
   "execution_count": 32,
   "id": "a5571d4b-acd7-4414-9435-876d8d1522a7",
   "metadata": {},
   "outputs": [
    {
     "name": "stdin",
     "output_type": "stream",
     "text": [
      "enter the number n1: 4\n",
      "enter the number n2: 6\n",
      "enter the number n3: 7\n"
     ]
    },
    {
     "name": "stdout",
     "output_type": "stream",
     "text": [
      "largest number among three: 6\n"
     ]
    }
   ],
   "source": [
    "n1=int(input(\"enter the number n1:\"))\n",
    "n2=int(input(\"enter the number n2:\"))\n",
    "n3=int(input(\"enter the number n3:\"))\n",
    "if n1>n2:\n",
    "    if n1>n3:\n",
    "        # here g is for largest number\n",
    "        g=n1\n",
    "    else:\n",
    "        g=n3\n",
    "else:\n",
    "    if n2>n1:\n",
    "        g=n2\n",
    "    else:\n",
    "        g=n3\n",
    "print(\"largest number among three:\",g)"
   ]
  },
  {
   "cell_type": "markdown",
   "id": "9dba1f15-1ebd-4aa0-9cbe-3e48648528ce",
   "metadata": {},
   "source": [
    "8. Develop chracter is vowel ....."
   ]
  },
  {
   "cell_type": "code",
   "execution_count": 33,
   "id": "eed6700b-c744-4b55-8b2b-a123e87bc7be",
   "metadata": {},
   "outputs": [
    {
     "name": "stdin",
     "output_type": "stream",
     "text": [
      "Enter the character: r\n"
     ]
    },
    {
     "name": "stdout",
     "output_type": "stream",
     "text": [
      "The character is constant\n"
     ]
    }
   ],
   "source": [
    "char=input(\"Enter the character:\")\n",
    "vowels=['a','e','i','o','u','A','E','I','O','U']\n",
    "if char in vowels:\n",
    "    print(\" The character is vowel\")\n",
    "else:\n",
    "    print(\"The character is constant\")"
   ]
  },
  {
   "cell_type": "markdown",
   "id": "1800f922-777c-4d22-bec3-2379cd02ed80",
   "metadata": {},
   "source": [
    "9.create a program to calculate the total cost ......."
   ]
  },
  {
   "cell_type": "code",
   "execution_count": null,
   "id": "3c358f6d-a6ad-4f96-962c-77fe7e3f90a6",
   "metadata": {},
   "outputs": [],
   "source": [
    "# input sale amount\n",
    "amt = int(input(\"Enter Sale Amount: \"))\n",
    "# checking conditions and calculating discount\n",
    "if(amt>0):\n",
    "    if amt<=5000:\n",
    "        disc = amt*0.05\n",
    "    elif amt<=15000:\n",
    "        disc=amt*0.12\n",
    "    elif amt<=25000:\n",
    "        disc=0.2 * amt\n",
    "    else:\n",
    "         disc=0.3 * amt\n",
    "\n",
    "    print(\"Discount : \",disc)\n",
    "    print(\"Net Pay  : \",amt-disc)\n",
    "else:\n",
    "    print(\"Invalid Amount\")"
   ]
  },
  {
   "cell_type": "markdown",
   "id": "22145470-eac9-4cdb-894a-99e27fc9678a",
   "metadata": {},
   "source": [
    "10.write a program that check if given number is even or odd."
   ]
  },
  {
   "cell_type": "code",
   "execution_count": null,
   "id": "b6a970e3-e62c-4206-880e-245d252d47d0",
   "metadata": {},
   "outputs": [],
   "source": [
    "num=int(input(\"enter the number:\"))\n",
    "if num%2==0:\n",
    "    print(\"The number is even:\",num)\n",
    "else:\n",
    "    print(\"The number is odd:\",num)"
   ]
  },
  {
   "cell_type": "markdown",
   "id": "d9f6a2eb-b6ab-4e5a-8c7a-4224cad6d03a",
   "metadata": {},
   "source": [
    "INTERMEDIATE LEVEL:........"
   ]
  },
  {
   "cell_type": "markdown",
   "id": "e3117773-24eb-4bc6-adbc-583bab6f7d17",
   "metadata": {},
   "source": [
    "11.write a program that calculate the roots of quardractic equation."
   ]
  },
  {
   "cell_type": "code",
   "execution_count": 36,
   "id": "0dfb34b2-4350-4f26-bb4f-8cce5db26425",
   "metadata": {},
   "outputs": [
    {
     "name": "stdin",
     "output_type": "stream",
     "text": [
      "Enter a: 2\n",
      "Enter b: 4\n",
      "Enter c: 5\n"
     ]
    },
    {
     "name": "stdout",
     "output_type": "stream",
     "text": [
      "Complex Roots\n",
      "-1.0  + i 4.898979485566356\n",
      "-1.0  - i 4.898979485566356\n"
     ]
    }
   ],
   "source": [
    "import math  \n",
    "def findRoots(a, b, c):  \n",
    "    dis_form = b * b - 4 * a * c  \n",
    "    sqrt_val = math.sqrt(abs(dis_form))   \n",
    "    if dis_form > 0:  \n",
    "        print(\" real and different roots \")  \n",
    "        print((-b + sqrt_val) / (2 * a))  \n",
    "        print((-b - sqrt_val) / (2 * a))  \n",
    "  \n",
    "    elif dis_form == 0:  \n",
    "        print(\" real and same roots\")  \n",
    "        print(-b / (2 * a))  \n",
    "    else:  \n",
    "        print(\"Complex Roots\")  \n",
    "        print(- b / (2 * a), \" + i\", sqrt_val)  \n",
    "        print(- b / (2 * a), \" - i\", sqrt_val)  \n",
    "a = int(input('Enter a:'))  \n",
    "b = int(input('Enter b:'))  \n",
    "c = int(input('Enter c:'))  \n",
    "# If a is 0, then incorrect equation  \n",
    "if a == 0:  \n",
    "    print(\"Input correct quadratic equation\")  \n",
    "else:  \n",
    "    findRoots(a, b, c)  "
   ]
  },
  {
   "cell_type": "markdown",
   "id": "6449c590-983f-4e6a-9cd6-3314ddc9c0ed",
   "metadata": {},
   "source": [
    "12.create a program that determine the day of the week based on the day...."
   ]
  },
  {
   "cell_type": "code",
   "execution_count": null,
   "id": "44d0a6f3-6f00-4028-a5ff-d457351d3cb0",
   "metadata": {},
   "outputs": [],
   "source": [
    "day = int(input(\"Enter a number from 1 to 7: \"))\n",
    "\n",
    "if day == 1:\n",
    "    print(day, \"is Sunday\")\n",
    "elif day == 2:\n",
    "    print(day, \"is Monday\")\n",
    "elif day == 3:\n",
    "    print(day, \"is Tuesday\")\n",
    "elif day == 4:\n",
    "    print(day, \"is Wednesday\")\n",
    "elif day == 5:\n",
    "    print(day, \"is Thursday\")\n",
    "elif day == 6:\n",
    "    print(day, \"is Friday\")\n",
    "elif day == 7:\n",
    "    print(day, \"is Saturday\")\n",
    "else:\n",
    "    print(\"Wrong input! Please enter a number from 1 to 7.\")"
   ]
  },
  {
   "cell_type": "markdown",
   "id": "a020d3f6-74ee-4486-96a8-c3f3a23a9131",
   "metadata": {},
   "source": [
    "13.Develop a program that calculates factorial of given number using recursion."
   ]
  },
  {
   "cell_type": "code",
   "execution_count": 2,
   "id": "f2b334cc-1a78-4651-a3af-5dc33120ca34",
   "metadata": {},
   "outputs": [
    {
     "name": "stdout",
     "output_type": "stream",
     "text": [
      "The factorial of 7 is 5040\n"
     ]
    }
   ],
   "source": [
    "def recur_factorial(n):\n",
    "    if n == 1:\n",
    "        return n\n",
    "    else:\n",
    "        return n*recur_factorial(n-1)\n",
    "num = 7\n",
    "# check if the number is negative\n",
    "if num < 0:\n",
    "    print(\"Sorry, factorial does not exist for negative numbers\")\n",
    "elif num == 0:\n",
    "    print(\"The factorial of 0 is 1\")\n",
    "else:\n",
    "    print(\"The factorial of\", num, \"is\", recur_factorial(num))"
   ]
  },
  {
   "cell_type": "markdown",
   "id": "0def1b9a-e242-47c8-88ee-bd804ea5627c",
   "metadata": {},
   "source": [
    "14.write  a program to find the largest among three numbers without......"
   ]
  },
  {
   "cell_type": "code",
   "execution_count": 41,
   "id": "02202aa3-5e76-4832-87ea-8b858812ae18",
   "metadata": {},
   "outputs": [
    {
     "name": "stdin",
     "output_type": "stream",
     "text": [
      "enter the number n1: 2\n",
      "enter the number n2: 1\n",
      "enter the number n3: 4\n"
     ]
    },
    {
     "name": "stdout",
     "output_type": "stream",
     "text": [
      "largest number among three: 4\n"
     ]
    }
   ],
   "source": [
    "n1=int(input(\"enter the number n1:\"))\n",
    "n2=int(input(\"enter the number n2:\"))\n",
    "n3=int(input(\"enter the number n3:\"))\n",
    "if n1>n2:\n",
    "    if n1>n3:\n",
    "        # here g is for largest number\n",
    "        g=n1\n",
    "    else:\n",
    "        g=n3\n",
    "else:\n",
    "    if n2>n1:\n",
    "        g=n2\n",
    "    else:\n",
    "        g=n3\n",
    "print(\"largest number among three:\",g)"
   ]
  },
  {
   "cell_type": "markdown",
   "id": "50889f6c-88f2-4773-9124-f8b767b7802c",
   "metadata": {},
   "source": [
    "15.create a program that ...."
   ]
  },
  {
   "cell_type": "code",
   "execution_count": null,
   "id": "9be4129b-55a2-40e9-b6a7-ecbad3742c9c",
   "metadata": {},
   "outputs": [],
   "source": [
    " input sale amount\n",
    "amt = int(input(\"Enter Sale Amount: \"))\n",
    "# checking conditions and calculating discount\n",
    "if(amt>0):\n",
    "    if amt<=5000:\n",
    "        disc = amt*0.05\n",
    "    elif amt<=15000:\n",
    "        disc=amt*0.12\n",
    "    elif amt<=25000:\n",
    "        disc=0.2 * amt\n",
    "    else:\n",
    "         disc=0.3 * amt\n",
    "\n",
    "    print(\"Discount : \",disc)\n",
    "    print(\"Net Pay  : \",amt-disc)\n",
    "else:\n",
    "    print(\"Invalid Amount\")"
   ]
  },
  {
   "cell_type": "markdown",
   "id": "629fafff-8a6a-4a0f-bc71-470ef6788d94",
   "metadata": {},
   "source": [
    "16.Bulid  a program checks if a given string is a plaidrom or not.. "
   ]
  },
  {
   "cell_type": "code",
   "execution_count": 5,
   "id": "8058e83a-a56d-4b93-a052-630db84053f3",
   "metadata": {},
   "outputs": [
    {
     "name": "stdout",
     "output_type": "stream",
     "text": [
      "String is palindrome\n"
     ]
    }
   ],
   "source": [
    "s=\"arora\"\n",
    "if s==s[::-1]:\n",
    "    print(\"String is palindrome\")\n",
    "else:\n",
    "    print(\"String is not palindrome\")"
   ]
  },
  {
   "cell_type": "markdown",
   "id": "6d163a7e-e317-4091-bdbe-057b466611c5",
   "metadata": {},
   "source": [
    "17.Write a program  that calculates....."
   ]
  },
  {
   "cell_type": "code",
   "execution_count": 7,
   "id": "14b425c0-c9d5-46f3-847b-2eb15d7bbab9",
   "metadata": {},
   "outputs": [
    {
     "name": "stdin",
     "output_type": "stream",
     "text": [
      "Enter the number of elements to be inserted:  4\n",
      "Enter element:  2\n",
      "Enter element:  3\n",
      "Enter element:  4\n",
      "Enter element:  5\n"
     ]
    },
    {
     "name": "stdout",
     "output_type": "stream",
     "text": [
      "Average of elements in the list 3.5\n"
     ]
    }
   ],
   "source": [
    "n=int(input(\"Enter the number of elements to be inserted: \"))\n",
    "a=[]\n",
    "for i in range(0,n):\n",
    "    elem=int(input(\"Enter element: \"))\n",
    "    a.append(elem)\n",
    "avg=sum(a)/n\n",
    "print(\"Average of elements in the list\",round(avg,2))"
   ]
  },
  {
   "cell_type": "markdown",
   "id": "f111098b-7699-4df7-818e-50b5ab722e28",
   "metadata": {},
   "source": [
    "18.Develop a program that converts a given temp...."
   ]
  },
  {
   "cell_type": "code",
   "execution_count": 10,
   "id": "66f9805d-0d23-4799-a0af-cc0dd9ae95ff",
   "metadata": {},
   "outputs": [
    {
     "name": "stdout",
     "output_type": "stream",
     "text": [
      "47.00 Celsius is equivalent to: 116.60 Fahrenheit\n"
     ]
    }
   ],
   "source": [
    "# Temperature in celsius degree\n",
    "celsius = 47\n",
    "# Converting the temperature to\n",
    "# fehrenheit using the formula\n",
    "fahrenheit = (celsius * 1.8) + 32 \n",
    "# printing the result\n",
    "print('%.2f Celsius is equivalent to: %.2f Fahrenheit'\n",
    "      % (celsius, fahrenheit))"
   ]
  },
  {
   "cell_type": "markdown",
   "id": "21d6d1de-c1c0-4a8d-804e-cc2a5e603ee3",
   "metadata": {},
   "source": [
    "19.Create a progarm that simulates a basic calculator......"
   ]
  },
  {
   "cell_type": "code",
   "execution_count": 9,
   "id": "9beddcd1-a55b-4edc-95c5-daa078d36634",
   "metadata": {},
   "outputs": [
    {
     "name": "stdin",
     "output_type": "stream",
     "text": [
      "enter the char add,sub,mult,div: add\n",
      "Enter number1: 2\n",
      "Enter number2: 3\n"
     ]
    },
    {
     "name": "stdout",
     "output_type": "stream",
     "text": [
      "Addition of number: 6\n"
     ]
    }
   ],
   "source": [
    "char=input(\"enter the char add,sub,mult,div:\")\n",
    "n1=int(input(\"Enter number1:\"))\n",
    "n2=int(input(\"Enter number2:\"))\n",
    "if char==\"add\":\n",
    "    c=a+b\n",
    "    print(\"Addition of number:\",c)\n",
    "elif char==\"sub\":\n",
    "    c=a-b\n",
    "    print(\"Addition of number:\",c)\n",
    "elif char==\"mul\":\n",
    "    c=a*b\n",
    "    print(\"Addition of number:\",c)\n",
    "elif char==\"div\":\n",
    "    c=a/b\n",
    "    print(\"Addition of number:\",c)\n",
    "else:\n",
    "    print(\"please enter vaild operation\")\n",
    "\n",
    "\n",
    "\n"
   ]
  },
  {
   "cell_type": "markdown",
   "id": "30bfd3a3-00dd-4130-a21d-4c9a6e2dbfee",
   "metadata": {},
   "source": [
    "20.determine the root equation........"
   ]
  },
  {
   "cell_type": "code",
   "execution_count": 2,
   "id": "41ea5f6a-2068-466d-8aa2-61107f252b88",
   "metadata": {},
   "outputs": [
    {
     "name": "stdin",
     "output_type": "stream",
     "text": [
      "Enter a: 2\n",
      "Enter b: 4\n",
      "Enter c: 2\n"
     ]
    },
    {
     "name": "stdout",
     "output_type": "stream",
     "text": [
      " real and same roots\n",
      "-1.0\n"
     ]
    }
   ],
   "source": [
    "import math  \n",
    "def findRoots(a, b, c):  \n",
    "    dis_form = b * b - 4 * a * c  \n",
    "    sqrt_val = math.sqrt(abs(dis_form))   \n",
    "    if dis_form > 0:  \n",
    "        print(\" real and different roots \")  \n",
    "        print((-b + sqrt_val) / (2 * a))  \n",
    "        print((-b - sqrt_val) / (2 * a))  \n",
    "  \n",
    "    elif dis_form == 0:  \n",
    "        print(\" real and same roots\")  \n",
    "        print(-b / (2 * a))  \n",
    "    else:  \n",
    "        print(\"Complex Roots\")  \n",
    "        print(- b / (2 * a), \" + i\", sqrt_val)  \n",
    "        print(- b / (2 * a), \" - i\", sqrt_val)  \n",
    "a = int(input('Enter a:'))  \n",
    "b = int(input('Enter b:'))  \n",
    "c = int(input('Enter c:'))  \n",
    "# If a is 0, then incorrect equation  \n",
    "if a == 0:  \n",
    "    print(\"Input correct quadratic equation\")  \n",
    "else:  \n",
    "    findRoots(a, b, c)  "
   ]
  },
  {
   "cell_type": "markdown",
   "id": "751823d8-7eff-4673-b921-a1eedd8d74b9",
   "metadata": {},
   "source": [
    "ADVANCED LEVEL:"
   ]
  },
  {
   "cell_type": "markdown",
   "id": "7db6169e-7d6e-4df3-bb03-ae3768cb338c",
   "metadata": {},
   "source": [
    "21.Create a program that calcualtes the income tax based on the users income and tax brackets."
   ]
  },
  {
   "cell_type": "code",
   "execution_count": null,
   "id": "e983ece5-6c3c-423d-93d3-614dc3e0ef53",
   "metadata": {},
   "outputs": [],
   "source": [
    "def calculate(amount, percent): \n",
    "    return (amount * percent) / 100\n",
    "  \n",
    "def calculate_income_tax(total_income:  \n",
    "                         float) -> float: \n",
    "  \n",
    "    if total_income <= 250000: \n",
    "        return 0\n",
    "    elif total_income <= 500000: \n",
    "        return calculate(total_income - \n",
    "                         250000, 5) \n",
    "    elif total_income <= 750000: \n",
    "        return calculate(total_income - \n",
    "                         500000, 10) + 12500\n",
    "    elif total_income <= 1000000: \n",
    "        return calculate(total_income - \n",
    "                         750000, 15) + 37500\n",
    "    elif total_income <= 1250000: \n",
    "        return calculate(total_income - \n",
    "                         1000000, 20) + 75000\n",
    "    elif total_income <= 1500000: \n",
    "        return calculate(total_income - \n",
    "                         1250000, 25) + 125000\n",
    "    else: \n",
    "        return calculate(total_income - \n",
    "                         1500000, 30) + 187500 \n"
   ]
  },
  {
   "cell_type": "markdown",
   "id": "5b022251-4ce4-40e2-93d6-56b37fe8e0cc",
   "metadata": {},
   "source": [
    "22.write a progragram to stimulate a rock-paper-scissor grame against the computer."
   ]
  },
  {
   "cell_type": "code",
   "execution_count": 17,
   "id": "75839e30-619b-40ae-890f-8c401faf7bbb",
   "metadata": {},
   "outputs": [
    {
     "name": "stdin",
     "output_type": "stream",
     "text": [
      "Choose Rock, Paper, or Scissors:  paper\n"
     ]
    },
    {
     "name": "stdout",
     "output_type": "stream",
     "text": [
      "You chose:  paper\n",
      "Computer chose:  Scissors\n",
      "Computer wins!\n"
     ]
    }
   ],
   "source": [
    "\n",
    "import random\n",
    "\n",
    " \n",
    "\n",
    "options = [\"Rock\", \"Paper\", \"Scissors\"]\n",
    "\n",
    " \n",
    "\n",
    "user_choice = input(\"Choose Rock, Paper, or Scissors: \")\n",
    "\n",
    "computer_choice = random.choice(options)\n",
    "\n",
    "print(\"You chose: \", user_choice)\n",
    "\n",
    "print(\"Computer chose: \", computer_choice)\n",
    "\n",
    "if user_choice == computer_choice:\n",
    "\n",
    "    print(\"It's a tie!\")\n",
    "\n",
    "elif user_choice == \"Rock\" and computer_choice == \"Scissors\":\n",
    "\n",
    "    print(\"You win!\")\n",
    "\n",
    "elif user_choice == \"Paper\" and computer_choice == \"Rock\":\n",
    "\n",
    "    print(\"You win!\")\n",
    "\n",
    "elif user_choice == \"Scissors\" and computer_choice == \"Paper\":\n",
    "\n",
    "    print(\"You win!\")\n",
    "\n",
    "else:\n",
    "\n",
    "    print(\"Computer wins!\")\n"
   ]
  },
  {
   "cell_type": "markdown",
   "id": "4d13983b-f0fb-4b7f-91fb-214c8c61747f",
   "metadata": {},
   "source": [
    "23.Develop a program that implement ...."
   ]
  },
  {
   "cell_type": "code",
   "execution_count": 1,
   "id": "47db836d-0b19-4e0b-9ca0-870d32aa48ed",
   "metadata": {},
   "outputs": [
    {
     "name": "stdin",
     "output_type": "stream",
     "text": [
      "Enter password length:  5\n"
     ]
    },
    {
     "name": "stdout",
     "output_type": "stream",
     "text": [
      "$!X$R\n"
     ]
    }
   ],
   "source": [
    "import string\n",
    "import random\n",
    "## characters to generate password from\n",
    "characters = list(string.ascii_letters + string.digits + \"!@#$%^&*()\")\n",
    "def generate_random_password():\n",
    "\t## length of password from the user\n",
    "\tlength = int(input(\"Enter password length: \"))\n",
    "\t## shuffling the characters\n",
    "\trandom.shuffle(characters)\t\n",
    "\t## picking random characters from the list\n",
    "\tpassword = []\n",
    "\tfor i in range(length):\n",
    "\t\tpassword.append(random.choice(characters))\n",
    "\t## shuffling the resultant password\n",
    "\trandom.shuffle(password)\n",
    "\t## converting the list to string\n",
    "\t## printing the list\n",
    "\tprint(\"\".join(password))\n",
    "## invoking the function\n",
    "generate_random_password()"
   ]
  },
  {
   "cell_type": "markdown",
   "id": "f385471b-1576-435a-a15d-95f80b22d07b",
   "metadata": {},
   "source": [
    "25.build a program......."
   ]
  },
  {
   "cell_type": "code",
   "execution_count": 2,
   "id": "8e1ad2fc-b6e2-4567-a4cb-7b07434f6c13",
   "metadata": {},
   "outputs": [
    {
     "name": "stdout",
     "output_type": "stream",
     "text": [
      "Equation 1:\n",
      "Eq(x + y + z, 1)\n",
      "Equation 2\n",
      "Eq(x - y + 2*z, 1)\n",
      "Equation 3\n",
      "Values of 3 unknown variable are as follows:\n",
      "{x: 0, y: 1/3, z: 2/3}\n"
     ]
    }
   ],
   "source": [
    "# importing library sympy \n",
    "from sympy import symbols, Eq, solve \n",
    "  \n",
    "# defining symbols used in equations \n",
    "# or unknown variables \n",
    "x, y, z = symbols('x,y,z') \n",
    "  \n",
    "# defining equations \n",
    "eq1 = Eq((x+y+z), 1) \n",
    "print(\"Equation 1:\") \n",
    "print(eq1) \n",
    "  \n",
    "eq2 = Eq((x-y+2*z), 1) \n",
    "print(\"Equation 2\") \n",
    "print(eq2) \n",
    "  \n",
    "eq3 = Eq((2*x-y+2*z), 1) \n",
    "print(\"Equation 3\") \n",
    "  \n",
    "# solving the equation and printing the  \n",
    "# value of unknown variables \n",
    "print(\"Values of 3 unknown variable are as follows:\") \n",
    "print(solve((eq1, eq2, eq3), (x, y, z))) "
   ]
  },
  {
   "cell_type": "markdown",
   "id": "30181dcd-e042-46e5-b07b-62d881deb526",
   "metadata": {},
   "source": [
    "27. develop program....."
   ]
  },
  {
   "cell_type": "code",
   "execution_count": null,
   "id": "233c2c2e-a472-4d36-8d05-72b77691412a",
   "metadata": {},
   "outputs": [],
   "source": [
    "print(\"Wellcome to quiz game !!\")\n",
    "print('NOTE: if your spelling is incorrect then it is considered as wrong answer')\n",
    "score = 0\n",
    "question_no = 0\n",
    "playing = input('Do you want to play ? ').lower()\n",
    "if playing == 'yes':\n",
    "    question_no += 1\n",
    "    ques = input(f'\\n{question_no}. what does CPU stand for? ').lower()\n",
    "    if ques == 'central processing unit':\n",
    "        score +=1\n",
    "        print('correct! you got 1 point')\n",
    "        \n",
    "    else:\n",
    "        print('Incorrect!')\n",
    "        print(f'current answer is --> central processing unit')\n",
    "\n",
    "# ------1\n",
    "    question_no += 1\n",
    "    ques = input(f'\\n{question_no}. what does GPU stand for? ').lower()\n",
    "    \n",
    "    if ques == 'graphics processing unit':\n",
    "        score +=1\n",
    "        print('correct! you got 1 point')\n",
    "        \n",
    "    else:\n",
    "        print('Incorrect!')\n",
    "        print(f'current answer is --> graphics processing unit')\n",
    "\n",
    "# -----2\n",
    "    question_no += 1\n",
    "    ques = input(f'\\n{question_no}. what does RAM stand for? ').lower()\n",
    "    \n",
    "    if ques == 'random access memory':\n",
    "        score +=1\n",
    "        print('correct! you got 1 point')\n",
    "        \n",
    "    else:\n",
    "        print('Incorrect!')\n",
    "        print(f'current answer is --> random access memory')\n",
    "\n",
    "# -----3\n",
    "    question_no += 1\n",
    "    ques = input(f'\\n{question_no}. what does PSU stand for? ').lower()\n",
    "    \n",
    "    if ques == 'power supply unit':\n",
    "        score +=1\n",
    "        print('correct! you got 1 point')\n",
    "        \n",
    "    else:\n",
    "        print('Incorrect!')\n",
    "        print(f'current answer is --> power supply unit')\n",
    "# -----4\n",
    "    question_no += 1\n",
    "    ques = input(f'\\n{question_no}. what does ROM stand for? ').lower()\n",
    "    \n",
    "    if ques == 'read only memory':\n",
    "        score +=1\n",
    "        print('correct! you got 1 point')\n",
    "        \n",
    "    else:\n",
    "        print('Incorrect!')\n",
    "        print(f'current answer is --> read only memory')\n",
    "# ------5 \n",
    "else:\n",
    "    print('thankyou you are out of a game.')\n",
    "    quit()\n",
    "\n",
    "print(f'\\nnumber of question is {question_no}')\n",
    "print(f'your score is {score}')\n",
    "try:\n",
    "    percentage = (score *100)/question_no\n",
    "except ZeroDivisionError:\n",
    "    print('0% quetions are correct')\n",
    "\n",
    "print(f'{percentage}% questions are correct.')"
   ]
  },
  {
   "cell_type": "markdown",
   "id": "56622f0c-e3f1-47d0-8273-9f28c0cb51eb",
   "metadata": {},
   "source": [
    "28.create a program that sorts....."
   ]
  },
  {
   "cell_type": "code",
   "execution_count": null,
   "id": "ab6cfb14-59d4-46ba-b044-b3c1ac06a429",
   "metadata": {},
   "outputs": [],
   "source": [
    "# here first neeed to create list of numbers....\n",
    "num1=int(input(\"Enter First number : \"))\n",
    "num2=int(input(\"Enter Second number : \"))\n",
    "num3=int(input(\"Enter Third number : \"))\n",
    "if num1<num2 and num1<num3:\n",
    "    if num2<num3:\n",
    "        x,y,z=num1,num2,num3\n",
    "    else:\n",
    "        x,y,z=num1,num3,num2\n",
    "elif num2<num1 and num2<num3:\n",
    "    if num1<num3:\n",
    "        x,y,z=num2,num1,num3\n",
    "    else:\n",
    "        x,y,z=num2,num3,num1\n",
    "else:\n",
    "    if num1<num2:\n",
    "        x,y,z=num3,num1,num2\n",
    "    else:\n",
    "        x,y,z=num3,num2,num1\n",
    "print(\"Numbers in ascending order are : \",x,y,z)"
   ]
  },
  {
   "cell_type": "markdown",
   "id": "a2066ecc-60eb-459e-aa94-a62ebd348323",
   "metadata": {},
   "source": [
    "29.bulid a program that determine the rooots of quardratic equation...."
   ]
  },
  {
   "cell_type": "code",
   "execution_count": 7,
   "id": "c050bce0-4705-4a50-9ff8-6fd372ac9faa",
   "metadata": {},
   "outputs": [
    {
     "name": "stdin",
     "output_type": "stream",
     "text": [
      "Enter a: 2\n",
      "Enter b: 4\n",
      "Enter c: 4\n"
     ]
    },
    {
     "name": "stdout",
     "output_type": "stream",
     "text": [
      "Complex Roots\n",
      "-1.0  + i 4.0\n",
      "-1.0  - i 4.0\n"
     ]
    }
   ],
   "source": [
    "import math  \n",
    "def findRoots(a, b, c):  \n",
    "    dis_form = b * b - 4 * a * c  \n",
    "    sqrt_val = math.sqrt(abs(dis_form))   \n",
    "    if dis_form > 0:  \n",
    "        print(\" real and different roots \")  \n",
    "        print((-b + sqrt_val) / (2 * a))  \n",
    "        print((-b - sqrt_val) / (2 * a))  \n",
    "  \n",
    "    elif dis_form == 0:  \n",
    "        print(\" real and same roots\")  \n",
    "        print(-b / (2 * a))  \n",
    "    else:  \n",
    "        print(\"Complex Roots\")  \n",
    "        print(- b / (2 * a), \" + i\", sqrt_val)  \n",
    "        print(- b / (2 * a), \" - i\", sqrt_val)  \n",
    "a = int(input('Enter a:'))  \n",
    "b = int(input('Enter b:'))  \n",
    "c = int(input('Enter c:'))  \n",
    "# If a is 0, then incorrect equation  \n",
    "if a == 0:  \n",
    "    print(\"Input correct quadratic equation\")  \n",
    "else:  \n",
    "    findRoots(a, b, c)  "
   ]
  },
  {
   "cell_type": "markdown",
   "id": "8d0d25e8-fdc9-49bc-a5fa-d9308339dbbd",
   "metadata": {},
   "source": [
    "30.write a program that calculate the BMI...."
   ]
  },
  {
   "cell_type": "code",
   "execution_count": 9,
   "id": "4b7d59ff-4bb3-4448-92a2-6689c3897867",
   "metadata": {},
   "outputs": [
    {
     "name": "stdin",
     "output_type": "stream",
     "text": [
      "Enter the weight 45\n",
      "Enter the height 4.5\n"
     ]
    },
    {
     "name": "stdout",
     "output_type": "stream",
     "text": [
      "Obeise\n"
     ]
    }
   ],
   "source": [
    "weight=int(input(\"Enter the weight\"))\n",
    "height=float(input(\"Enter the height\"))\n",
    "BMI=weight/height*height\n",
    "if BMI<18.5:\n",
    "    print(\"listen u have need of proprr diet because:Underweight\")\n",
    "elif BMI>=18.5 and BMI<25:\n",
    "    print(\"good u have goo health maintain Normal\") \n",
    "elif BMI>=25 and BMI<30: \n",
    "    print(\"need of the maintain diet Overweight\")\n",
    "else: print(\"Obeise\") "
   ]
  },
  {
   "cell_type": "markdown",
   "id": "d8daf765-d400-433e-8fd6-06a1eff66af9",
   "metadata": {},
   "source": [
    "31.create a password that validate....."
   ]
  },
  {
   "cell_type": "code",
   "execution_count": null,
   "id": "15131076-6ee6-4617-9d3d-c53957617342",
   "metadata": {},
   "outputs": [],
   "source": [
    "import string\n",
    "import random\n",
    "## characters to generate password from\n",
    "characters = list(string.ascii_letters + string.digits + \"!@#$%^&*()\")\n",
    "def generate_random_password():\n",
    "\t## length of password from the user\n",
    "\tlength = int(input(\"Enter password length: \"))\n",
    "\t## shuffling the characters\n",
    "\trandom.shuffle(characters)\t\n",
    "\t## picking random characters from the list\n",
    "\tpassword = []\n",
    "\tfor i in range(length):\n",
    "\t\tpassword.append(random.choice(characters))\n",
    "\t## shuffling the resultant password\n",
    "\trandom.shuffle(password)\n",
    "\t## converting the list to string\n",
    "\t## printing the list\n",
    "\tprint(\"\".join(password))\n",
    "## invoking the function\n",
    "generate_random_password()"
   ]
  },
  {
   "cell_type": "markdown",
   "id": "ba869846-4236-465b-b2eb-193498c32e05",
   "metadata": {},
   "source": [
    "32.develop the proogram to perform addition and substraction....."
   ]
  },
  {
   "cell_type": "code",
   "execution_count": 5,
   "id": "7ace3ce9-2587-4c45-9f88-a459ddfe6052",
   "metadata": {},
   "outputs": [
    {
     "name": "stdout",
     "output_type": "stream",
     "text": [
      "[9, 9, 9]\n",
      "[9, 9, 9]\n",
      "[9, 9, 9]\n",
      "[11, 13, 15]\n",
      "[17, 19, 21]\n",
      "[23, 25, 27]\n"
     ]
    }
   ],
   "source": [
    "matrix1 = [[10, 11, 12],\n",
    "           [13, 14, 15],\n",
    "           [16, 17, 18]]\n",
    "matrix2 = [[1, 2, 3],\n",
    "           [4, 5, 6],\n",
    "           [7, 8, 9]]\n",
    "rmatrix = [[0, 0, 0],\n",
    "           [0, 0, 0],\n",
    "           [0, 0, 0]]\n",
    "rmatrix1 = [[0, 0, 0],\n",
    "           [0, 0, 0],\n",
    "           [0, 0, 0]]\n",
    "for i in range(len(matrix1)):\n",
    "    for j in range(len(matrix1[0])):\n",
    "        rmatrix[i][j] = matrix1[i][j] - matrix2[i][j]\n",
    "        rmatrix1[i][j] = matrix1[i][j] + matrix2[i][j]\n",
    "\n",
    "for r in rmatrix:\n",
    "    print(r)\n",
    "for j in rmatrix1:\n",
    "    print(j)"
   ]
  },
  {
   "cell_type": "markdown",
   "id": "39f7da10-3709-4139-8e30-283f9f439c90",
   "metadata": {},
   "source": [
    "33.write a program that calcualtes the greatest common divisor....."
   ]
  },
  {
   "cell_type": "code",
   "execution_count": 6,
   "id": "09429219-fc16-4223-9710-d74363d38433",
   "metadata": {},
   "outputs": [
    {
     "name": "stdout",
     "output_type": "stream",
     "text": [
      " GCD of two number 0 and 0 is  0\n",
      " GCD of two number 0 and 48 is  48\n",
      " GCD of two number 60 and 48 is  12\n",
      " GCD of two number 48 and -12 is  12\n",
      " GCD of two number -24 and -18 is  6\n",
      " GCD of two number -60 and 48 is  12\n"
     ]
    }
   ],
   "source": [
    "import math  \n",
    "print(\" GCD of two number 0 and 0 is \", math.gcd(0, 0)) #math.gcd(a, b), a and b are the two integer number  \n",
    "print(\" GCD of two number 0 and 48 is \", math.gcd(0, 48))  \n",
    "a = 60 # assign the number to variable a  \n",
    "b = 48 # assign the number to variable b  \n",
    "print(\" GCD of two number 60 and 48 is \", math.gcd(a, b)) # pass the variable a and b to math.gcd() function.  \n",
    "print(\" GCD of two number 48 and -12 is \", math.gcd(48, -12)) # pass the integer number  \n",
    "print(\" GCD of two number -24 and -18 is \", math.gcd(-24, -18))  \n",
    "print(\" GCD of two number -60 and 48 is \", math.gcd(-60, 48))  "
   ]
  },
  {
   "cell_type": "markdown",
   "id": "5fc4b17d-2339-4473-a2e3-66dfb0a69f77",
   "metadata": {},
   "source": [
    "34.Build a program that perform....."
   ]
  },
  {
   "cell_type": "code",
   "execution_count": 7,
   "id": "c41fe5b6-962e-45a3-b675-0ae543dda46a",
   "metadata": {},
   "outputs": [
    {
     "name": "stdout",
     "output_type": "stream",
     "text": [
      "[10, 22, 36]\n",
      "[52, 70, 90]\n",
      "[112, 136, 162]\n"
     ]
    }
   ],
   "source": [
    "matrix1 = [[10, 11, 12],\n",
    "           [13, 14, 15],\n",
    "           [16, 17, 18]]\n",
    "matrix2 = [[1, 2, 3],\n",
    "           [4, 5, 6],\n",
    "           [7, 8, 9]]\n",
    "rmatrix = [[0, 0, 0],\n",
    "           [0, 0, 0],\n",
    "           [0, 0, 0]]\n",
    "for i in range(len(matrix1)):\n",
    "    for j in range(len(matrix1[0])):\n",
    "        rmatrix[i][j] = matrix1[i][j]*matrix2[i][j]\n",
    "\n",
    "for r in rmatrix:\n",
    "    print(r)"
   ]
  },
  {
   "cell_type": "markdown",
   "id": "c6f263ea-8090-409a-a7df-040f9fb2fbc9",
   "metadata": {},
   "source": [
    "36. create a program that stimulate......"
   ]
  },
  {
   "cell_type": "code",
   "execution_count": null,
   "id": "20695fc6-fa60-4d69-899d-18d5b767b317",
   "metadata": {},
   "outputs": [],
   "source": [
    "a = 0\n",
    "b = 1\n",
    "n=int(input(\"Enter the number of terms in the sequence: \"))\n",
    "print(a,b,end=\" \")\n",
    "while(n-2):\n",
    "    c=a+b\n",
    "    a,b = b,c\n",
    "    print(c,end=\" \")\n",
    "    n=n-1"
   ]
  },
  {
   "cell_type": "markdown",
   "id": "e0a50e1d-8071-4eb4-9646-b203980cc3b1",
   "metadata": {},
   "source": [
    "37.develop program that calculates the nth ......"
   ]
  },
  {
   "cell_type": "code",
   "execution_count": 1,
   "id": "7bc0b223-a018-4b0a-82a8-a6f11630335b",
   "metadata": {},
   "outputs": [
    {
     "name": "stdout",
     "output_type": "stream",
     "text": [
      "120\n",
      "120\n"
     ]
    }
   ],
   "source": [
    "# Simple recursive program to find factorial\n",
    "def facto(num):\n",
    "    if num == 1:\n",
    "        return 1\n",
    "    else:\n",
    "        return num * facto(num-1)\n",
    "         \n",
    " \n",
    "print(facto(5))\n",
    "print(facto(5)) # again performing same calculation"
   ]
  },
  {
   "cell_type": "markdown",
   "id": "fb3c9d21-5735-40cd-97d7-f95ee00d6675",
   "metadata": {},
   "source": [
    "38.create a program that genrates a calender for a given...."
   ]
  },
  {
   "cell_type": "code",
   "execution_count": 3,
   "id": "9b0816b5-6be5-4206-a287-b69a0c4590d0",
   "metadata": {},
   "outputs": [
    {
     "name": "stdin",
     "output_type": "stream",
     "text": [
      "Please enter the Year:  2003\n",
      "Please enter the month:  4\n"
     ]
    },
    {
     "name": "stdout",
     "output_type": "stream",
     "text": [
      "The Calendar of:       April 2003\n",
      "Mo Tu We Th Fr Sa Su\n",
      "    1  2  3  4  5  6\n",
      " 7  8  9 10 11 12 13\n",
      "14 15 16 17 18 19 20\n",
      "21 22 23 24 25 26 27\n",
      "28 29 30\n",
      "\n"
     ]
    }
   ],
   "source": [
    "import calendar  \n",
    "  \n",
    "year = int(input (\"Please enter the Year: \")) # Here, it will take the year  \n",
    "month = int(input (\"Please enter the month: \"))    # Here, it will take the month  \n",
    "  \n",
    "# Now, we will display the calendar  \n",
    "print (\"The Calendar of: \", calendar.month(year, month))  "
   ]
  },
  {
   "cell_type": "markdown",
   "id": "74062dac-c7dd-49cf-8169-ea3bfd5c5c49",
   "metadata": {},
   "source": [
    "39.build simulates basic text-based......"
   ]
  },
  {
   "cell_type": "code",
   "execution_count": 4,
   "id": "3158c920-a900-4ee0-9d00-8d618bbea661",
   "metadata": {},
   "outputs": [
    {
     "name": "stdout",
     "output_type": "stream",
     "text": [
      "Cards Player Has: [('4', 'Hearts'), ('King', 'Diamonds')]\n",
      "Score Of The Player: 14\n",
      "\n",
      "\n"
     ]
    },
    {
     "name": "stdin",
     "output_type": "stream",
     "text": [
      "What do you want? [\"play\" to request another card, \"stop\" to stop]:  play\n"
     ]
    },
    {
     "name": "stdout",
     "output_type": "stream",
     "text": [
      "Cards Player Has: [('4', 'Hearts'), ('King', 'Diamonds'), ('9', 'Diamonds')]\n",
      "Score Of The Player: 23\n",
      "\n",
      "\n"
     ]
    },
    {
     "name": "stdin",
     "output_type": "stream",
     "text": [
      "What do you want? [\"play\" to request another card, \"stop\" to stop]:  play\n"
     ]
    },
    {
     "name": "stdout",
     "output_type": "stream",
     "text": [
      "Cards Dealer Has: [('Jack', 'Spades'), ('10', 'Clubs')]\n",
      "Score Of The Dealer: 20\n",
      "Cards Player Has: [('4', 'Hearts'), ('King', 'Diamonds'), ('9', 'Diamonds'), ('Queen', 'Hearts')]\n",
      "Score Of The Player: 23\n",
      "Dealer wins (Player Loss Because Player Score is exceeding 21)\n",
      "Cards Dealer Has: [('Jack', 'Spades'), ('10', 'Clubs')]\n",
      "Score Of The Dealer: 20\n",
      "\n",
      "\n",
      "Cards Dealer Has: [('Jack', 'Spades'), ('10', 'Clubs')]\n",
      "Score Of The Dealer: 20\n",
      "Cards Player Has: [('4', 'Hearts'), ('King', 'Diamonds'), ('9', 'Diamonds'), ('Queen', 'Hearts')]\n",
      "Score Of The Player: 23\n",
      "Player wins (Player Has High Score than Dealer)\n"
     ]
    }
   ],
   "source": [
    "import random \n",
    "\n",
    "card_categories = ['Hearts', 'Diamonds', 'Clubs', 'Spades'] \n",
    "cards_list = ['Ace', '2', '3', '4', '5', '6', '7', '8', '9', '10', 'Jack', 'Queen', 'King'] \n",
    "deck = [(card, category) for category in card_categories for card in cards_list] \n",
    "\n",
    "def card_value(card): \n",
    "\tif card[0] in ['Jack', 'Queen', 'King']: \n",
    "\t\treturn 10\n",
    "\telif card[0] == 'Ace': \n",
    "\t\treturn 11\n",
    "\telse: \n",
    "\t\treturn int(card[0]) \n",
    "\n",
    "random.shuffle(deck) \n",
    "player_card = [deck.pop(), deck.pop()] \n",
    "dealer_card = [deck.pop(), deck.pop()] \n",
    "\n",
    "while True: \n",
    "\tplayer_score = sum(card_value(card) for card in player_card) \n",
    "\tdealer_score = sum(card_value(card) for card in dealer_card) \n",
    "\tprint(\"Cards Player Has:\", player_card) \n",
    "\tprint(\"Score Of The Player:\", player_score) \n",
    "\tprint(\"\\n\") \n",
    "\tchoice = input('What do you want? [\"play\" to request another card, \"stop\" to stop]: ').lower() \n",
    "\tif choice == \"play\": \n",
    "\t\tnew_card = deck.pop() \n",
    "\t\tplayer_card.append(new_card) \n",
    "\telif choice == \"stop\": \n",
    "\t\tbreak\n",
    "\telse: \n",
    "\t\tprint(\"Invalid choice. Please try again.\") \n",
    "\t\tcontinue\n",
    "\n",
    "\tif player_score > 21: \n",
    "\t\tprint(\"Cards Dealer Has:\", dealer_card) \n",
    "\t\tprint(\"Score Of The Dealer:\", dealer_score) \n",
    "\t\tprint(\"Cards Player Has:\", player_card) \n",
    "\t\tprint(\"Score Of The Player:\", player_score) \n",
    "\t\tprint(\"Dealer wins (Player Loss Because Player Score is exceeding 21)\") \n",
    "\t\tbreak\n",
    "\n",
    "while dealer_score < 17: \n",
    "\tnew_card = deck.pop() \n",
    "\tdealer_card.append(new_card) \n",
    "\tdealer_score += card_value(new_card) \n",
    "\n",
    "print(\"Cards Dealer Has:\", dealer_card) \n",
    "print(\"Score Of The Dealer:\", dealer_score) \n",
    "print(\"\\n\") \n",
    "\n",
    "if dealer_score > 21: \n",
    "\tprint(\"Cards Dealer Has:\", dealer_card) \n",
    "\tprint(\"Score Of The Dealer:\", dealer_score) \n",
    "\tprint(\"Cards Player Has:\", player_card) \n",
    "\tprint(\"Score Of The Player:\", player_score) \n",
    "\tprint(\"Player wins (Dealer Loss Because Dealer Score is exceeding 21)\") \n",
    "elif player_score > dealer_score: \n",
    "\tprint(\"Cards Dealer Has:\", dealer_card) \n",
    "\tprint(\"Score Of The Dealer:\", dealer_score) \n",
    "\tprint(\"Cards Player Has:\", player_card) \n",
    "\tprint(\"Score Of The Player:\", player_score) \n",
    "\tprint(\"Player wins (Player Has High Score than Dealer)\") \n",
    "elif dealer_score > player_score: \n",
    "\tprint(\"Cards Dealer Has:\", dealer_card) \n",
    "\tprint(\"Score Of The Dealer:\", dealer_score) \n",
    "\tprint(\"Cards Player Has:\", player_card) \n",
    "\tprint(\"Score Of The Player:\", player_score) \n",
    "\tprint(\"Dealer wins (Dealer Has High Score than Player)\") \n",
    "else: \n",
    "\tprint(\"Cards Dealer Has:\", dealer_card) \n",
    "\tprint(\"Score Of The Dealer:\", dealer_score) \n",
    "\tprint(\"Cards Player Has:\", player_card) \n",
    "\tprint(\"Score Of The Player:\", player_score) \n",
    "\tprint(\"It's a tie.\")\n"
   ]
  },
  {
   "cell_type": "markdown",
   "id": "c2dcf8f1-fc56-4a96-817c-4fb8ca02e5f7",
   "metadata": {},
   "source": [
    "40.write a program that genrates the prime factoors of a given number using trial division."
   ]
  },
  {
   "cell_type": "code",
   "execution_count": 5,
   "id": "73f550df-30dd-4d20-86dd-d216bf279c04",
   "metadata": {},
   "outputs": [
    {
     "name": "stdout",
     "output_type": "stream",
     "text": [
      "3\n",
      "3\n",
      "5\n",
      "7\n"
     ]
    }
   ],
   "source": [
    "# Python program to print prime factors\n",
    " \n",
    "import math\n",
    "# A function to print all prime factors of\n",
    "# a given number n\n",
    "def primeFactors(n):\n",
    "    # Print the number of two's that divide n\n",
    "    while n % 2 == 0:\n",
    "        print(2)\n",
    "        n = n // 2      \n",
    "    # n must be odd at this point\n",
    "    # so a skip of 2 ( i = i + 2) can be used\n",
    "    for i in range(3,int(math.sqrt(n))+1,2):         \n",
    "        # while i divides n , print i ad divide n\n",
    "        while n % i== 0:\n",
    "            print(i)\n",
    "            n = n // i           \n",
    "    # Condition if n is a prime\n",
    "    # number greater than 2\n",
    "    if n > 2:\n",
    "        print(n)         \n",
    "# Driver Program to test above function\n",
    "n = 315\n",
    "primeFactors(n)"
   ]
  },
  {
   "cell_type": "code",
   "execution_count": null,
   "id": "71782ac5-d9b9-4b03-8175-dc411343c7d5",
   "metadata": {},
   "outputs": [],
   "source": []
  },
  {
   "cell_type": "code",
   "execution_count": null,
   "id": "1d42a994-5aac-4b76-92ea-81e69de55f28",
   "metadata": {},
   "outputs": [],
   "source": []
  }
 ],
 "metadata": {
  "kernelspec": {
   "display_name": "Python 3 (ipykernel)",
   "language": "python",
   "name": "python3"
  },
  "language_info": {
   "codemirror_mode": {
    "name": "ipython",
    "version": 3
   },
   "file_extension": ".py",
   "mimetype": "text/x-python",
   "name": "python",
   "nbconvert_exporter": "python",
   "pygments_lexer": "ipython3",
   "version": "3.10.8"
  }
 },
 "nbformat": 4,
 "nbformat_minor": 5
}
